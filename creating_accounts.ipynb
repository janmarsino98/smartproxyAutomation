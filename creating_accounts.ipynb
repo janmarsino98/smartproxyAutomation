{
 "cells": [
  {
   "cell_type": "code",
   "execution_count": 45,
   "metadata": {},
   "outputs": [],
   "source": [
    "#IMPORTS\n",
    "import undetected_chromedriver as uc\n",
    "from selenium import webdriver\n",
    "from selenium.webdriver.chrome.service import Service\n",
    "from webdriver_manager.chrome import ChromeDriverManager\n",
    "from selenium.webdriver.chrome.options import Options\n",
    "import time\n",
    "import pickle\n",
    "from selenium.webdriver.common.by import By\n",
    "import pandas as pd\n",
    "from selenium.webdriver.support.ui import WebDriverWait\n",
    "from selenium.webdriver.support import expected_conditions as EC\n",
    "\n",
    "\n",
    "\n",
    "options = Options()\n",
    "# Add any options you need\n",
    "# options.add_argument('--headless')  # Uncomment to run Chrome in headless mode.\n",
    "\n",
    "service = Service(ChromeDriverManager().install())\n",
    "\n",
    "driver = webdriver.Chrome(service=service, options=options)\n",
    "driver.get('https://24hour.email/en')"
   ]
  },
  {
   "cell_type": "code",
   "execution_count": 46,
   "metadata": {},
   "outputs": [],
   "source": [
    "get_mail_btn = WebDriverWait(driver, 10).until(\n",
    "        EC.presence_of_element_located((By.CLASS_NAME, \"btn-backtoapp\"))\n",
    "    )\n",
    "\n",
    "get_mail_btn.click()\n",
    "\n",
    "current_mail = WebDriverWait(driver, 10).until(\n",
    "        EC.presence_of_element_located((By.ID, \"current-id\"))\n",
    "    )\n",
    "\n",
    "email = current_mail.get_attribute(\"value\")"
   ]
  },
  {
   "cell_type": "code",
   "execution_count": 47,
   "metadata": {},
   "outputs": [],
   "source": [
    "driver.execute_script(\"window.open('');\")\n",
    "time.sleep(2)\n",
    "\n",
    "smart_proxy_window = driver.window_handles[1]\n",
    "driver.switch_to.window(smart_proxy_window)\n",
    "driver.get(\"https://dashboard.smartproxy.com/register\")\n",
    "mail_input = WebDriverWait(driver, 10).until(\n",
    "    EC.presence_of_element_located((By.ID, \"newEmail\"))\n",
    ")\n",
    "mail_input.send_keys(email)\n",
    "password_input = driver.find_element(By.XPATH, \"//input[@id='newPassword']\")\n",
    "password_input.send_keys(\"jmAAnrsino1998!\")\n",
    "accept_terms = driver.find_element(By.ID, \"acceptTerms\")"
   ]
  },
  {
   "cell_type": "code",
   "execution_count": 48,
   "metadata": {},
   "outputs": [
    {
     "name": "stdout",
     "output_type": "stream",
     "text": [
      "acceptTerms\n"
     ]
    }
   ],
   "source": [
    "accept_terms = driver.find_element(By.ID, \"acceptTerms\")\n",
    "print(accept_terms.get_attribute(\"id\"))\n",
    "try:\n",
    "    driver.execute_script(\"arguments[0].click()\", accept_terms)\n",
    "except:\n",
    "    print(\"Failed to click.\")"
   ]
  },
  {
   "cell_type": "code",
   "execution_count": 49,
   "metadata": {},
   "outputs": [],
   "source": [
    "submit_btn = driver.find_element(By.XPATH, \"//button[@data-testid='continueRegistration']\")\n",
    "\n",
    "submit_btn.click()"
   ]
  },
  {
   "cell_type": "code",
   "execution_count": 50,
   "metadata": {},
   "outputs": [],
   "source": [
    "case_description = WebDriverWait(driver, 30).until(\n",
    "    EC.presence_of_element_located((By.XPATH, \"//div[@data-testid='useCase_Market Intelligence']\"))\n",
    ")\n",
    "\n",
    "case_description.click()"
   ]
  },
  {
   "cell_type": "code",
   "execution_count": 51,
   "metadata": {},
   "outputs": [],
   "source": [
    "solution_use = WebDriverWait(driver, 30).until(\n",
    "    EC.presence_of_element_located((By.XPATH, \"//div[@data-testid='integrateToCode']\"))\n",
    ")\n",
    "\n",
    "solution_use.click()"
   ]
  },
  {
   "cell_type": "code",
   "execution_count": 53,
   "metadata": {},
   "outputs": [],
   "source": [
    "# Return to the first tab\n",
    "\n",
    "driver.switch_to.window(driver.window_handles[0])\n",
    "\n",
    "refresh_btn = WebDriverWait(driver, 10).until(\n",
    "    EC.presence_of_element_located((By.XPATH, \"//div[@action='refresh']\"))\n",
    ")\n",
    "\n",
    "refresh_btn.click()\n",
    "time.sleep(5)"
   ]
  },
  {
   "cell_type": "code",
   "execution_count": 54,
   "metadata": {},
   "outputs": [],
   "source": [
    "emails_msgs = driver.find_elements(By.XPATH, \"//div[@class='mail-item']//div[@class='message']\")\n",
    "\n",
    "for email in  emails_msgs:\n",
    "    if \"http://url6350.smartproxy.com\" in email.text:\n",
    "        email.click()\n",
    "        continue\n",
    "        \n"
   ]
  },
  {
   "cell_type": "code",
   "execution_count": 55,
   "metadata": {},
   "outputs": [],
   "source": [
    "import re\n",
    "email_text = driver.find_element(By.CLASS_NAME, \"content\")\n",
    "pattern = r\"https://dashboard\\.smartproxy\\.com/verify/[a-zA-Z0-9]+/\"\n",
    "match = re.search(pattern, email_text.text)\n",
    "\n",
    "if match:\n",
    "    link = match.group()"
   ]
  },
  {
   "cell_type": "code",
   "execution_count": 56,
   "metadata": {},
   "outputs": [],
   "source": [
    "driver.get(link)\n",
    "time.sleep(5)\n"
   ]
  },
  {
   "cell_type": "code",
   "execution_count": 57,
   "metadata": {},
   "outputs": [
    {
     "name": "stdout",
     "output_type": "stream",
     "text": [
      "<selenium.webdriver.remote.webelement.WebElement (session=\"d30f5164f17720c37dee9316c49f777e\", element=\"f.4B7AAC0240F38F5D819C8B632220646D.d.1C1BC26152302C61A2CD67E0117C36E2.e.36\")>\n"
     ]
    }
   ],
   "source": [
    "driver.get(\"https://dashboard.smartproxy.com/social-media/pricing\")\n",
    "\n",
    "free_plan = WebDriverWait(driver, 30).until(\n",
    "    EC.presence_of_element_located((By.XPATH, \"//div[contains(@data-testid, 'regularPlan')]\"))\n",
    "    )\n",
    "\n",
    "print(free_plan)\n"
   ]
  },
  {
   "cell_type": "code",
   "execution_count": 58,
   "metadata": {},
   "outputs": [],
   "source": [
    "free_plan.click()\n",
    "\n",
    "checkout_btn = WebDriverWait(driver, 10).until(\n",
    "    EC.presence_of_element_located((By.XPATH,\"//button[@data-testid='proceedToCheckout']\"))\n",
    ")\n",
    "\n",
    "checkout_btn.click()\n"
   ]
  },
  {
   "cell_type": "code",
   "execution_count": 59,
   "metadata": {},
   "outputs": [],
   "source": [
    "btn = driver.find_element(By.XPATH, \"//button//span[normalize-space(text())='Request']\")\n",
    "btn.click()"
   ]
  },
  {
   "cell_type": "code",
   "execution_count": 60,
   "metadata": {},
   "outputs": [],
   "source": [
    "request_btn = WebDriverWait(driver, 10).until(\n",
    "    EC.presence_of_element_located((By.XPATH, \"//button/span[text()='Request']\"))\n",
    ")\n",
    "\n",
    "request_btn.click()"
   ]
  },
  {
   "cell_type": "code",
   "execution_count": 61,
   "metadata": {},
   "outputs": [
    {
     "name": "stdout",
     "output_type": "stream",
     "text": [
      "Basic UzAwMDAxNDk4MjY6UFcxNmU1YzViOWIwMDFmNTExYTVhNDhjOWFmNWM1ZjU1NjI=\n"
     ]
    }
   ],
   "source": [
    "code = driver.find_element(By.XPATH, \"//code[@class='language-bash']\")\n",
    "code_pattern = r'Basic \\w+='\n",
    "match = re.search(code_pattern, code.text)\n",
    "\n",
    "if match:\n",
    "    request_code = match.group()\n",
    "\n",
    "print(request_code)"
   ]
  },
  {
   "cell_type": "code",
   "execution_count": 32,
   "metadata": {},
   "outputs": [],
   "source": [
    "df = pd.DataFrame(columns=[\"codes\"])\n",
    "df.to_csv(\"codes.csv\", sep=\";\")"
   ]
  },
  {
   "cell_type": "code",
   "execution_count": 42,
   "metadata": {},
   "outputs": [
    {
     "name": "stdout",
     "output_type": "stream",
     "text": [
      "Code was stored....\n"
     ]
    }
   ],
   "source": [
    "df = pd.read_csv(\"codes.csv\", index_col=0, sep=\";\")\n",
    "new_df = pd.DataFrame([\"UzAwMDAxNDk4Mzc6UFcxYTY4MTg3ZTQyMjc0NWFiZjhkNjBhZjI3ZWJkZDU4YjM=\"], columns=[\"codes\"])\n",
    "df = pd.concat([df, new_df], ignore_index=True)\n",
    "df.to_csv(\"codes.csv\", sep=\";\")\n",
    "print(\"Code was stored....\")"
   ]
  },
  {
   "cell_type": "code",
   "execution_count": 37,
   "metadata": {},
   "outputs": [
    {
     "data": {
      "text/html": [
       "<div>\n",
       "<style scoped>\n",
       "    .dataframe tbody tr th:only-of-type {\n",
       "        vertical-align: middle;\n",
       "    }\n",
       "\n",
       "    .dataframe tbody tr th {\n",
       "        vertical-align: top;\n",
       "    }\n",
       "\n",
       "    .dataframe thead th {\n",
       "        text-align: right;\n",
       "    }\n",
       "</style>\n",
       "<table border=\"1\" class=\"dataframe\">\n",
       "  <thead>\n",
       "    <tr style=\"text-align: right;\">\n",
       "      <th></th>\n",
       "      <th>codes</th>\n",
       "    </tr>\n",
       "  </thead>\n",
       "  <tbody>\n",
       "    <tr>\n",
       "      <th>0</th>\n",
       "      <td>Basic UzAwMDAxNDk4MzU6UFcxMzcxYTc2MDM3ZjFhNGI5...</td>\n",
       "    </tr>\n",
       "    <tr>\n",
       "      <th>1</th>\n",
       "      <td>Basic UzAwMDAxNDk4MzY6UFcxODlkZTZjN2NjZjgxZmYz...</td>\n",
       "    </tr>\n",
       "    <tr>\n",
       "      <th>2</th>\n",
       "      <td>Basic UzAwMDAxNDk4Mzc6UFcxYTY4MTg3ZTQyMjc0NWFi...</td>\n",
       "    </tr>\n",
       "  </tbody>\n",
       "</table>\n",
       "</div>"
      ],
      "text/plain": [
       "                                               codes\n",
       "0  Basic UzAwMDAxNDk4MzU6UFcxMzcxYTc2MDM3ZjFhNGI5...\n",
       "1  Basic UzAwMDAxNDk4MzY6UFcxODlkZTZjN2NjZjgxZmYz...\n",
       "2  Basic UzAwMDAxNDk4Mzc6UFcxYTY4MTg3ZTQyMjc0NWFi..."
      ]
     },
     "execution_count": 37,
     "metadata": {},
     "output_type": "execute_result"
    }
   ],
   "source": [
    "sdf = pd.read_csv(\"codes.csv\", index_col=0, sep=\";\")\n",
    "sdf"
   ]
  }
 ],
 "metadata": {
  "kernelspec": {
   "display_name": "Python 3",
   "language": "python",
   "name": "python3"
  },
  "language_info": {
   "codemirror_mode": {
    "name": "ipython",
    "version": 3
   },
   "file_extension": ".py",
   "mimetype": "text/x-python",
   "name": "python",
   "nbconvert_exporter": "python",
   "pygments_lexer": "ipython3",
   "version": "3.12.0"
  }
 },
 "nbformat": 4,
 "nbformat_minor": 2
}
